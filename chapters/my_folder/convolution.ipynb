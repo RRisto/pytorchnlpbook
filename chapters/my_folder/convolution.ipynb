{
 "cells": [
  {
   "cell_type": "code",
   "execution_count": 1,
   "metadata": {},
   "outputs": [],
   "source": [
    "import torch\n",
    "import torch.nn as nn"
   ]
  },
  {
   "cell_type": "code",
   "execution_count": 2,
   "metadata": {},
   "outputs": [
    {
     "name": "stdout",
     "output_type": "stream",
     "text": [
      "torch.Size([2, 10, 7])\n",
      "torch.Size([2, 16, 5])\n"
     ]
    }
   ],
   "source": [
    "batch_size = 2\n",
    "one_hot_size = 10\n",
    "sequence_width = 7\n",
    "data = torch.randn(batch_size, one_hot_size, sequence_width)\n",
    "conv1 = nn.Conv1d(in_channels=one_hot_size, out_channels=16, kernel_size=3)\n",
    "intermediate1 = conv1(data)\n",
    "print(data.size())\n",
    "print(intermediate1.size())"
   ]
  },
  {
   "cell_type": "code",
   "execution_count": 3,
   "metadata": {},
   "outputs": [
    {
     "data": {
      "text/plain": [
       "tensor([[[ 1.1881, -0.0098, -0.4665,  1.0271, -0.5597,  1.3551, -0.3146],\n",
       "         [ 1.8837, -0.2360,  1.2758, -0.3922, -0.4717, -0.5314,  0.0890],\n",
       "         [-0.4594, -0.5731, -0.9494, -2.3085, -0.7038, -0.3430,  0.0488],\n",
       "         [ 1.3257, -1.0915, -2.0863,  1.3237, -0.2543,  0.6256,  0.6527],\n",
       "         [ 0.2598,  0.0744, -0.6150,  0.8488, -1.2929,  1.5263,  0.1725],\n",
       "         [-0.8364, -0.4555,  0.1173, -1.4135,  0.4523,  0.7380,  0.5549],\n",
       "         [-0.1443,  0.5518, -1.4701,  0.6159, -1.0530, -1.1357, -0.7159],\n",
       "         [-0.4594, -0.6132, -0.4918,  2.2307,  0.1095, -1.6415, -0.0141],\n",
       "         [ 0.2816,  0.5768,  0.2093,  0.5573, -0.5000, -1.5479,  0.6019],\n",
       "         [-0.8662, -0.2324, -1.4904, -0.1476,  0.0921,  0.4238,  0.5501]],\n",
       "\n",
       "        [[-1.0116,  0.5911,  0.0997, -0.9522,  1.1338, -0.9703, -0.9636],\n",
       "         [ 1.3885, -0.9974, -0.0055,  1.0644,  0.6781,  0.0886, -0.7404],\n",
       "         [ 0.5978, -0.0266,  0.7403,  0.0279,  0.9494, -1.1366, -1.7089],\n",
       "         [ 0.2782,  2.8000, -0.4285, -1.3841, -0.9822, -0.0272,  1.2964],\n",
       "         [-0.3530,  0.4176,  1.0230, -0.3967,  0.1371,  0.1108,  1.6696],\n",
       "         [-1.1084,  1.6299,  1.4568, -0.6860, -0.7306, -0.7125,  0.7744],\n",
       "         [-0.9219,  0.9964, -0.9412,  0.0411, -0.7561,  0.0817,  0.2363],\n",
       "         [ 0.5918,  0.0798,  0.8869, -1.1010,  0.5372,  0.8574, -0.7285],\n",
       "         [ 0.5191,  0.9421, -0.4535, -1.5070, -1.1961, -0.9582, -1.2035],\n",
       "         [ 0.0786,  0.0865, -0.3951, -0.5962, -1.8831, -0.7096,  0.2289]]])"
      ]
     },
     "execution_count": 3,
     "metadata": {},
     "output_type": "execute_result"
    }
   ],
   "source": [
    "data"
   ]
  },
  {
   "cell_type": "code",
   "execution_count": 4,
   "metadata": {},
   "outputs": [
    {
     "data": {
      "text/plain": [
       "tensor([[[-0.2878, -0.6634,  0.7168, -0.7180,  0.3351],\n",
       "         [-0.2663, -0.5675,  0.3615,  0.4570,  0.4321],\n",
       "         [ 0.4049,  0.3189,  0.9617,  0.9699,  0.1957],\n",
       "         [-0.6105,  0.1543,  0.5739, -0.9096,  0.0588],\n",
       "         [ 0.6927,  0.6433,  0.6291, -0.1188,  0.1595],\n",
       "         [-0.5925,  0.7972,  0.0128,  0.5216,  0.9036],\n",
       "         [ 0.6139, -0.0413, -0.0286,  0.1586,  0.1535],\n",
       "         [-0.1650, -0.6966, -0.9187, -0.4853, -0.0433],\n",
       "         [ 0.3006,  0.6234, -0.5312, -0.0454,  0.1742],\n",
       "         [ 0.3372, -0.2361, -0.9374,  0.3864, -0.7923],\n",
       "         [ 0.3091, -1.1711,  0.2221, -0.4289, -0.5723],\n",
       "         [-0.3691,  0.0919,  1.3925,  0.2970,  0.7622],\n",
       "         [-0.4142, -0.2696,  0.2470, -0.2032,  0.1205],\n",
       "         [ 0.0676,  0.1205, -0.4738,  0.4441,  0.1110],\n",
       "         [ 0.5274,  0.0281, -0.1670,  1.0676, -0.3701],\n",
       "         [ 1.0122, -0.0464,  0.1191, -0.2830, -0.2394]],\n",
       "\n",
       "        [[-0.0796, -0.3633,  0.3548, -0.1440,  0.1687],\n",
       "         [ 0.1475, -0.0593, -0.3218, -0.3093,  0.5919],\n",
       "         [-0.2284,  0.0514,  1.1964,  0.5475,  0.1280],\n",
       "         [-0.5202, -0.4481, -0.6840,  0.0392,  0.2650],\n",
       "         [-0.1509,  0.2130,  0.3566,  0.7056, -0.3064],\n",
       "         [ 0.1925, -0.1529,  0.3679,  0.4783,  0.5992],\n",
       "         [-0.5689,  0.6187,  0.3197,  0.8879,  0.0431],\n",
       "         [-0.5418,  0.3823,  0.8549, -0.4784, -0.4630],\n",
       "         [ 0.9265, -0.0654, -0.4045, -0.5197, -0.6457],\n",
       "         [-0.4428,  0.9131,  0.1684, -0.1189,  0.3291],\n",
       "         [-0.1785,  1.0137, -0.0953, -0.3086, -0.0292],\n",
       "         [ 0.6326, -0.6107, -0.5555,  0.8582,  0.6328],\n",
       "         [ 0.9078, -0.2400, -0.0435,  0.3686,  0.0318],\n",
       "         [ 0.0140,  0.0166,  0.5438, -0.1655,  0.3626],\n",
       "         [-0.2500,  1.0056,  0.1650, -0.0880, -0.5036],\n",
       "         [-0.0783, -0.7210,  1.0785,  0.9045,  0.5707]]],\n",
       "       grad_fn=<SqueezeBackward1>)"
      ]
     },
     "execution_count": 4,
     "metadata": {},
     "output_type": "execute_result"
    }
   ],
   "source": [
    "intermediate1"
   ]
  },
  {
   "cell_type": "code",
   "execution_count": 5,
   "metadata": {},
   "outputs": [
    {
     "name": "stdout",
     "output_type": "stream",
     "text": [
      "torch.Size([2, 32, 3])\n",
      "torch.Size([2, 64, 1])\n"
     ]
    }
   ],
   "source": [
    "conv2 = nn.Conv1d(in_channels=16, out_channels=32, kernel_size=3)\n",
    "conv3 = nn.Conv1d(in_channels=32, out_channels=64, kernel_size=3)\n",
    "intermediate2 = conv2(intermediate1)\n",
    "intermediate3 = conv3(intermediate2)\n",
    "print(intermediate2.size())\n",
    "print(intermediate3.size())"
   ]
  },
  {
   "cell_type": "code",
   "execution_count": 6,
   "metadata": {},
   "outputs": [
    {
     "name": "stdout",
     "output_type": "stream",
     "text": [
      "torch.Size([2, 64])\n"
     ]
    }
   ],
   "source": [
    "y_output = intermediate3.squeeze()\n",
    "print(y_output.size())"
   ]
  },
  {
   "cell_type": "code",
   "execution_count": 7,
   "metadata": {},
   "outputs": [
    {
     "name": "stdout",
     "output_type": "stream",
     "text": [
      "torch.Size([2, 80])\n",
      "torch.Size([2, 16])\n"
     ]
    }
   ],
   "source": [
    "# Method 2 of reducing to feature vectors\n",
    "print(intermediate1.view(batch_size, -1).size())\n",
    "# Method 3 of reducing to feature vectors\n",
    "print(torch.mean(intermediate1, dim=2).size())\n",
    "# print(torch.max(intermediate1, dim=2).size())\n",
    "# print(torch.sum(intermediate1, dim=2).size())"
   ]
  },
  {
   "cell_type": "code",
   "execution_count": 8,
   "metadata": {},
   "outputs": [
    {
     "data": {
      "text/plain": [
       "torch.Size([2, 16, 5])"
      ]
     },
     "execution_count": 8,
     "metadata": {},
     "output_type": "execute_result"
    }
   ],
   "source": [
    "intermediate1.size()"
   ]
  },
  {
   "cell_type": "code",
   "execution_count": 9,
   "metadata": {},
   "outputs": [
    {
     "name": "stdout",
     "output_type": "stream",
     "text": [
      "torch.Size([2, 16])\n"
     ]
    }
   ],
   "source": [
    "print(torch.mean(intermediate1, dim=-1).size())"
   ]
  },
  {
   "cell_type": "code",
   "execution_count": 10,
   "metadata": {},
   "outputs": [
    {
     "data": {
      "text/plain": [
       "tensor([[-0.1234,  0.0834,  0.5702, -0.1466,  0.4011,  0.3285,  0.1712, -0.4618,\n",
       "          0.1043, -0.2485, -0.3282,  0.4349, -0.1039,  0.0539,  0.2172,  0.1125],\n",
       "        [-0.0127,  0.0098,  0.3390, -0.2696,  0.1636,  0.2970,  0.2601, -0.0492,\n",
       "         -0.1417,  0.1698,  0.0804,  0.1915,  0.2049,  0.1543,  0.0658,  0.3509]],\n",
       "       grad_fn=<MeanBackward1>)"
      ]
     },
     "execution_count": 10,
     "metadata": {},
     "output_type": "execute_result"
    }
   ],
   "source": [
    "torch.mean(intermediate1, dim=-1)"
   ]
  },
  {
   "cell_type": "code",
   "execution_count": 11,
   "metadata": {},
   "outputs": [
    {
     "data": {
      "text/plain": [
       "tensor([[-0.1234,  0.0834,  0.5702, -0.1466,  0.4011,  0.3285,  0.1712, -0.4618,\n",
       "          0.1043, -0.2485, -0.3282,  0.4349, -0.1039,  0.0539,  0.2172,  0.1125],\n",
       "        [-0.0127,  0.0098,  0.3390, -0.2696,  0.1636,  0.2970,  0.2601, -0.0492,\n",
       "         -0.1417,  0.1698,  0.0804,  0.1915,  0.2049,  0.1543,  0.0658,  0.3509]],\n",
       "       grad_fn=<MeanBackward1>)"
      ]
     },
     "execution_count": 11,
     "metadata": {},
     "output_type": "execute_result"
    }
   ],
   "source": [
    "torch.mean(intermediate1, dim=2)"
   ]
  }
 ],
 "metadata": {
  "kernelspec": {
   "display_name": "Python 3",
   "language": "python",
   "name": "python3"
  },
  "language_info": {
   "codemirror_mode": {
    "name": "ipython",
    "version": 3
   },
   "file_extension": ".py",
   "mimetype": "text/x-python",
   "name": "python",
   "nbconvert_exporter": "python",
   "pygments_lexer": "ipython3",
   "version": "3.7.4"
  }
 },
 "nbformat": 4,
 "nbformat_minor": 2
}
