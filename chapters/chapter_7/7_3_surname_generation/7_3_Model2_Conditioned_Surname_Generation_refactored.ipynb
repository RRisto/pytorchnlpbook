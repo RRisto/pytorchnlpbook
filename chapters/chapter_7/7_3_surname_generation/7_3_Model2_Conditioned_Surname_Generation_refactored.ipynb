{
 "cells": [
  {
   "cell_type": "code",
   "execution_count": 1,
   "metadata": {},
   "outputs": [],
   "source": [
    "from src.learner import Learner\n",
    "from argparse import Namespace"
   ]
  },
  {
   "cell_type": "markdown",
   "metadata": {},
   "source": [
    "## Args"
   ]
  },
  {
   "cell_type": "code",
   "execution_count": 2,
   "metadata": {},
   "outputs": [],
   "source": [
    "args = Namespace(\n",
    "    # Data and Path information\n",
    "    surname_csv=\"data/surnames/surnames_with_splits.csv\",\n",
    "    vectorizer_file=\"vectorizer.json\",\n",
    "    model_state_file=\"model.pth\",\n",
    "    save_dir=\"model_storage/ch7/model2_conditioned_surname_generation\",\n",
    "    # Model hyper parameters\n",
    "    char_embedding_size=32,\n",
    "    rnn_hidden_size=32,\n",
    "    # Training hyper parameters\n",
    "    seed=1337,\n",
    "    learning_rate=0.001,\n",
    "    batch_size=128,\n",
    "    num_epochs=10,\n",
    "    early_stopping_criteria=5,\n",
    "    # Runtime options\n",
    "    catch_keyboard_interrupt=True,\n",
    "    cuda=True,\n",
    "    expand_filepaths_to_save_dir=True,\n",
    "    reload_from_files=False,\n",
    "    conditioned=True\n",
    ")"
   ]
  },
  {
   "cell_type": "code",
   "execution_count": 3,
   "metadata": {},
   "outputs": [
    {
     "name": "stdout",
     "output_type": "stream",
     "text": [
      "Expanded filepaths: \n",
      "\tmodel_storage/ch7/model2_conditioned_surname_generation\\vectorizer.json\n",
      "\tmodel_storage/ch7/model2_conditioned_surname_generation\\model.pth\n",
      "Using CUDA: False\n",
      "Loading dataset and creating vectorizer\n"
     ]
    }
   ],
   "source": [
    "learner=Learner.learner_from_args(args)"
   ]
  },
  {
   "cell_type": "markdown",
   "metadata": {},
   "source": [
    "## Train"
   ]
  },
  {
   "cell_type": "code",
   "execution_count": 4,
   "metadata": {},
   "outputs": [
    {
     "data": {
      "application/vnd.jupyter.widget-view+json": {
       "model_id": "b81858dda9284ae7aa7cc9c1f156b687",
       "version_major": 2,
       "version_minor": 0
      },
      "text/plain": [
       "HBox(children=(IntProgress(value=0, description='training routine', max=10, style=ProgressStyle(description_wi…"
      ]
     },
     "metadata": {},
     "output_type": "display_data"
    },
    {
     "data": {
      "application/vnd.jupyter.widget-view+json": {
       "model_id": "cc73439309ec4fba8127af04e898a68c",
       "version_major": 2,
       "version_minor": 0
      },
      "text/plain": [
       "HBox(children=(IntProgress(value=0, description='split=train', max=60, style=ProgressStyle(description_width='…"
      ]
     },
     "metadata": {},
     "output_type": "display_data"
    },
    {
     "data": {
      "application/vnd.jupyter.widget-view+json": {
       "model_id": "a4b54fd1b11640de9dd510e2a9ed09dc",
       "version_major": 2,
       "version_minor": 0
      },
      "text/plain": [
       "HBox(children=(IntProgress(value=0, description='split=val', max=12, style=ProgressStyle(description_width='in…"
      ]
     },
     "metadata": {},
     "output_type": "display_data"
    }
   ],
   "source": [
    "learner.train()"
   ]
  },
  {
   "cell_type": "code",
   "execution_count": 5,
   "metadata": {},
   "outputs": [
    {
     "name": "stdout",
     "output_type": "stream",
     "text": [
      "Test loss: 2.879\n",
      "Test Accuracy: 20.426\n"
     ]
    }
   ],
   "source": [
    "learner.validate()"
   ]
  },
  {
   "cell_type": "markdown",
   "metadata": {},
   "source": [
    "## Generate"
   ]
  },
  {
   "cell_type": "code",
   "execution_count": 6,
   "metadata": {},
   "outputs": [
    {
     "name": "stdout",
     "output_type": "stream",
     "text": [
      "Sampled for Arabic: \n",
      "-  Arult\n",
      "-  Saioy\n",
      "-  Kaa\n",
      "Sampled for Chinese: \n",
      "-  haeoen\n",
      "-  Soririd\n",
      "-  Hayela\n",
      "Sampled for Czech: \n",
      "-  AleÉnlnyel\n",
      "-  Kain\n",
      "-  Mne\n",
      "Sampled for Dutch: \n",
      "-  Araout\n",
      "-  ninll\n",
      "-  Perr\n",
      "Sampled for English: \n",
      "-  Ceten\n",
      "-  GaT\n",
      "-  Gasos\n",
      "Sampled for French: \n",
      "-  A\n",
      "-  Beh\n",
      "-  Ylec\n",
      "Sampled for German: \n",
      "-  Fern\n",
      "-  Aaa\n",
      "-  Ha\n",
      "Sampled for Greek: \n",
      "-  Agonay\n",
      "-  Seuuksof\n",
      "-  De\n",
      "Sampled for Irish: \n",
      "-  Mure\n",
      "-  Laeaw\n",
      "-  Go\n",
      "Sampled for Italian: \n",
      "-  ian\n",
      "-  Nartiu\n",
      "-  Mduta\n",
      "Sampled for Japanese: \n",
      "-  Oari\n",
      "-  Mheik\n",
      "-  Aol\n",
      "Sampled for Korean: \n",
      "-  Mavaor\n",
      "-  Taaen\n",
      "-  hins\n",
      "Sampled for Polish: \n",
      "-  Bad\n",
      "-  CS\n",
      "-  ciubbakolin\n",
      "Sampled for Portuguese: \n",
      "-  Maokeo\n",
      "-  Nasi\n",
      "-  Aait\n",
      "Sampled for Russian: \n",
      "-  Lamo\n",
      "-  Goan\n",
      "-  Vanak\n",
      "Sampled for Scottish: \n",
      "-  maer\n",
      "-  Kebr\n",
      "-  <UNK>Aaz\n",
      "Sampled for Spanish: \n",
      "-  Tkao\n",
      "-  Crouwaen\n",
      "-  Ssos\n",
      "Sampled for Vietnamese: \n",
      "-  cak\n",
      "-  uro\n",
      "-  bdei\n"
     ]
    }
   ],
   "source": [
    "learner.generate(3)"
   ]
  },
  {
   "cell_type": "code",
   "execution_count": null,
   "metadata": {},
   "outputs": [],
   "source": []
  }
 ],
 "metadata": {
  "kernelspec": {
   "display_name": "Python 3",
   "language": "python",
   "name": "python3"
  },
  "language_info": {
   "codemirror_mode": {
    "name": "ipython",
    "version": 3
   },
   "file_extension": ".py",
   "mimetype": "text/x-python",
   "name": "python",
   "nbconvert_exporter": "python",
   "pygments_lexer": "ipython3",
   "version": "3.7.4"
  }
 },
 "nbformat": 4,
 "nbformat_minor": 2
}
