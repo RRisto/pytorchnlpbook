{
 "cells": [
  {
   "cell_type": "code",
   "execution_count": 1,
   "metadata": {},
   "outputs": [],
   "source": [
    "from src.learner import Learner\n",
    "from argparse import Namespace"
   ]
  },
  {
   "cell_type": "markdown",
   "metadata": {},
   "source": [
    "## Args"
   ]
  },
  {
   "cell_type": "code",
   "execution_count": 2,
   "metadata": {},
   "outputs": [],
   "source": [
    "args = Namespace(\n",
    "    # Data and Path information\n",
    "    surname_csv=\"data/surnames/surnames_with_splits.csv\",\n",
    "    vectorizer_file=\"vectorizer.json\",\n",
    "    model_state_file=\"model.pth\",\n",
    "    save_dir=\"model_storage/ch7/model2_conditioned_surname_generation\",\n",
    "    # Model hyper parameters\n",
    "    char_embedding_size=32,\n",
    "    rnn_hidden_size=32,\n",
    "    # Training hyper parameters\n",
    "    seed=1337,\n",
    "    learning_rate=0.001,\n",
    "    batch_size=128,\n",
    "    num_epochs=10,\n",
    "    early_stopping_criteria=5,\n",
    "    # Runtime options\n",
    "    catch_keyboard_interrupt=True,\n",
    "    cuda=True,\n",
    "    expand_filepaths_to_save_dir=True,\n",
    "    reload_from_files=False,\n",
    "    conditioned=True\n",
    ")"
   ]
  },
  {
   "cell_type": "markdown",
   "metadata": {},
   "source": [
    "## Learner"
   ]
  },
  {
   "cell_type": "code",
   "execution_count": 3,
   "metadata": {},
   "outputs": [
    {
     "name": "stdout",
     "output_type": "stream",
     "text": [
      "Expanded filepaths: \n",
      "\tmodel_storage/ch7/model2_conditioned_surname_generation\\vectorizer.json\n",
      "\tmodel_storage/ch7/model2_conditioned_surname_generation\\model.pth\n",
      "Using CUDA: False\n",
      "Loading dataset and creating vectorizer\n"
     ]
    }
   ],
   "source": [
    "learner=Learner.learner_from_args(args)"
   ]
  },
  {
   "cell_type": "markdown",
   "metadata": {},
   "source": [
    "## Train"
   ]
  },
  {
   "cell_type": "code",
   "execution_count": 4,
   "metadata": {},
   "outputs": [
    {
     "data": {
      "application/vnd.jupyter.widget-view+json": {
       "model_id": "90ebaf15599e4d669aaa863b98dcdc76",
       "version_major": 2,
       "version_minor": 0
      },
      "text/plain": [
       "HBox(children=(IntProgress(value=0, description='training routine', max=10, style=ProgressStyle(description_wi…"
      ]
     },
     "metadata": {},
     "output_type": "display_data"
    },
    {
     "data": {
      "application/vnd.jupyter.widget-view+json": {
       "model_id": "fd02623b60f3470793b5127b1cfebf31",
       "version_major": 2,
       "version_minor": 0
      },
      "text/plain": [
       "HBox(children=(IntProgress(value=0, description='split=train', max=60, style=ProgressStyle(description_width='…"
      ]
     },
     "metadata": {},
     "output_type": "display_data"
    },
    {
     "data": {
      "application/vnd.jupyter.widget-view+json": {
       "model_id": "57ddb844a8374651894ad27eaaaf817b",
       "version_major": 2,
       "version_minor": 0
      },
      "text/plain": [
       "HBox(children=(IntProgress(value=0, description='split=val', max=12, style=ProgressStyle(description_width='in…"
      ]
     },
     "metadata": {},
     "output_type": "display_data"
    }
   ],
   "source": [
    "learner.train()"
   ]
  },
  {
   "cell_type": "code",
   "execution_count": 5,
   "metadata": {},
   "outputs": [
    {
     "name": "stdout",
     "output_type": "stream",
     "text": [
      "Test loss: 2.776\n",
      "Test Accuracy: 21.825\n"
     ]
    }
   ],
   "source": [
    "learner.validate()"
   ]
  },
  {
   "cell_type": "markdown",
   "metadata": {},
   "source": [
    "## Generate"
   ]
  },
  {
   "cell_type": "code",
   "execution_count": 6,
   "metadata": {},
   "outputs": [
    {
     "name": "stdout",
     "output_type": "stream",
     "text": [
      "Sampled for Arabic: \n",
      "-  Surkin\n",
      "-  Anan\n",
      "-  Hhasaon\n",
      "Sampled for Chinese: \n",
      "-  ta\n",
      "-  Aeh\n",
      "-  Kiy\n",
      "Sampled for Czech: \n",
      "-  Ha\n",
      "-  Beh\n",
      "-  Taatyela\n",
      "Sampled for Dutch: \n",
      "-  áealeVivenri\n",
      "-  Mrrtge\n",
      "-  Daele\n",
      "Sampled for English: \n",
      "-  SaTutot\n",
      "-  Ltbinss\n",
      "-  Socerh\n",
      "Sampled for French: \n",
      "-  Dehe\n",
      "-  Vada\n",
      "-  Pmhtn\n",
      "Sampled for German: \n",
      "-  Det\n",
      "-  Cineo\n",
      "-  Sellec\n",
      "Sampled for Greek: \n",
      "-  Lltedn\n",
      "-  Ha\n",
      "-  Taha\n",
      "Sampled for Irish: \n",
      "-  Amte\n",
      "-  Osaeuo\n",
      "-  Wenr\n",
      "Sampled for Italian: \n",
      "-  JiHbar\n",
      "-  Celte\n",
      "-  iie\n",
      "Sampled for Japanese: \n",
      "-  Hra\n",
      "-  Iaetb\n",
      "-  Karda\n",
      "Sampled for Korean: \n",
      "-  Mel\n",
      "-  Soirei\n",
      "-  Oeo\n",
      "Sampled for Polish: \n",
      "-  Mbetv\n",
      "-  \n",
      "-  Hlonrs\n",
      "Sampled for Portuguese: \n",
      "-  Saeao\n",
      "-  Msar\n",
      "-  Saii\n",
      "Sampled for Russian: \n",
      "-  Vaka\n",
      "-  Sei\n",
      "-  Eaoun\n",
      "Sampled for Scottish: \n",
      "-  Silae\n",
      "-  Var\n",
      "-  Dacanor\n",
      "Sampled for Spanish: \n",
      "-  Mzahra\n",
      "-  BVaead\n",
      "-  Si\n",
      "Sampled for Vietnamese: \n",
      "-  kl\n",
      "-  Medy\n",
      "-  1aal\n"
     ]
    }
   ],
   "source": [
    "learner.generate(3)"
   ]
  },
  {
   "cell_type": "markdown",
   "metadata": {},
   "source": [
    "## Load saved model"
   ]
  },
  {
   "cell_type": "code",
   "execution_count": 7,
   "metadata": {},
   "outputs": [],
   "source": [
    "args_saved= Namespace(\n",
    "    # Data and Path information\n",
    "    surname_csv=\"data/surnames/surnames_with_splits.csv\",\n",
    "    vectorizer_file=\"vectorizer.json\",\n",
    "    model_state_file=\"model.pth\",\n",
    "    save_dir=\"model_storage/ch7/model2_conditioned_surname_generation\",\n",
    "    # Model hyper parameters\n",
    "    char_embedding_size=32,\n",
    "    rnn_hidden_size=32,\n",
    "    # Training hyper parameters\n",
    "    seed=1337,\n",
    "    learning_rate=0.001,\n",
    "    batch_size=128,\n",
    "    num_epochs=10,\n",
    "    early_stopping_criteria=5,\n",
    "    # Runtime options\n",
    "    catch_keyboard_interrupt=True,\n",
    "    cuda=True,\n",
    "    expand_filepaths_to_save_dir=True,\n",
    "    reload_from_files=True,\n",
    "    conditioned=True\n",
    ")"
   ]
  },
  {
   "cell_type": "code",
   "execution_count": 8,
   "metadata": {},
   "outputs": [
    {
     "name": "stdout",
     "output_type": "stream",
     "text": [
      "Expanded filepaths: \n",
      "\tmodel_storage/ch7/model2_conditioned_surname_generation\\vectorizer.json\n",
      "\tmodel_storage/ch7/model2_conditioned_surname_generation\\model.pth\n",
      "Using CUDA: False\n",
      "Loading dataset and loading vectorizer\n",
      "Test loss: 2.776\n",
      "Test Accuracy: 21.825\n"
     ]
    }
   ],
   "source": [
    "learner_loaded=Learner.learner_from_args(args_saved)\n",
    "learner_loaded.validate()"
   ]
  },
  {
   "cell_type": "code",
   "execution_count": null,
   "metadata": {},
   "outputs": [],
   "source": []
  }
 ],
 "metadata": {
  "kernelspec": {
   "display_name": "Python 3",
   "language": "python",
   "name": "python3"
  },
  "language_info": {
   "codemirror_mode": {
    "name": "ipython",
    "version": 3
   },
   "file_extension": ".py",
   "mimetype": "text/x-python",
   "name": "python",
   "nbconvert_exporter": "python",
   "pygments_lexer": "ipython3",
   "version": "3.7.4"
  }
 },
 "nbformat": 4,
 "nbformat_minor": 2
}
